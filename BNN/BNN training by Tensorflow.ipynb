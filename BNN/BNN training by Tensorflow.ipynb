{
 "cells": [
  {
   "cell_type": "markdown",
   "metadata": {},
   "source": [
    "## Tensorflow training\n",
    "* set up BNN by Tensorflow\n",
    "* Create a function f(x,z) = 13*xs + 7*zs - 12\n",
    "* Using L2-Norm objective function or huber_loss and gradient decent to minimize weight and bias for correct w and b"
   ]
  },
  {
   "cell_type": "code",
   "execution_count": 1,
   "metadata": {},
   "outputs": [],
   "source": [
    "#import library\n",
    "import numpy as np\n",
    "import matplotlib.pyplot as plt\n",
    "import tensorflow as tf\n",
    "%matplotlib inline"
   ]
  },
  {
   "cell_type": "code",
   "execution_count": 2,
   "metadata": {},
   "outputs": [],
   "source": [
    "#creating data\n",
    "observation = 1000\n",
    "xs = np.random.uniform(-10,10,(observation,1))\n",
    "zs = np.random.uniform(-10,10,(observation,1))\n",
    "noise = np.random.uniform(-0.1,0.1,(observation,1))\n",
    "generated_input = np.column_stack((xs,zs))\n",
    "#set target\n",
    "generated_target = targets = 13*xs + 7*zs -12 + noise\n",
    "#creating npz file\n",
    "np.savez('TF_BNN', inputs = generated_input, targets = generated_target)\n",
    "\n",
    "#set the size of input and output \n",
    "input_size = 2\n",
    "output_size = 1\n",
    "\n",
    "# set placeholder\n",
    "inputs = tf.placeholder(tf.float32,[None,input_size])\n",
    "targets = tf.placeholder(tf.float32,[None,output_size])\n",
    "\n",
    "#set variable\n",
    "w = tf.Variable(tf.random_uniform([input_size,output_size],minval=-0.1,maxval=0.1))\n",
    "b = tf.Variable(tf.random_uniform([output_size],minval=-0.1,maxval=0.1))\n",
    "\n",
    "#set output\n",
    "outputs = tf.matmul(inputs,w) + b\n",
    "\n",
    "# setup loss function (L2-Norm objective function and huber_loss)\n",
    "L2_loss = tf.losses.mean_squared_error(labels=targets, predictions=outputs)\n",
    "Huber_loss = tf.losses.huber_loss(labels=targets, predictions=outputs)\n",
    "\n",
    "#setup optimization method (Gradient descent)\n",
    "optimizer_L2 = tf.train.GradientDescentOptimizer(learning_rate = 0.02).minimize(L2_loss)\n",
    "optimizer_huber = tf.train.GradientDescentOptimizer(learning_rate = 0.02).minimize(Huber_loss)\n",
    "\n",
    "#session\n",
    "sess = tf.InteractiveSession()\n",
    "\n",
    "#Initialize variable\n",
    "\n",
    "initializer = tf.global_variables_initializer()\n",
    "sess.run(initializer)"
   ]
  },
  {
   "cell_type": "code",
   "execution_count": 3,
   "metadata": {},
   "outputs": [],
   "source": [
    "# loading train data\n",
    "training_data = np.load('TF_BNN.npz',)"
   ]
  },
  {
   "cell_type": "code",
   "execution_count": 4,
   "metadata": {},
   "outputs": [
    {
     "name": "stdout",
     "output_type": "stream",
     "text": [
      "7407.534\n",
      "879.18994\n",
      "199.41637\n",
      "118.77876\n",
      "102.359795\n",
      "93.57127\n",
      "86.18349\n",
      "79.454124\n",
      "73.25905\n",
      "67.54806\n",
      "62.28243\n",
      "57.427303\n",
      "52.950672\n",
      "48.823048\n",
      "45.0172\n",
      "41.508022\n",
      "38.272408\n",
      "35.28905\n",
      "32.538258\n",
      "30.001919\n",
      "27.663311\n",
      "25.507011\n",
      "23.51881\n",
      "21.685625\n",
      "19.99532\n",
      "18.43679\n",
      "16.999767\n",
      "15.674783\n",
      "14.453066\n",
      "13.326605\n",
      "12.287957\n",
      "11.330286\n",
      "10.447263\n",
      "9.633089\n",
      "8.882379\n",
      "8.190195\n",
      "7.551976\n",
      "6.96351\n",
      "6.4209113\n",
      "5.920609\n",
      "5.459318\n",
      "5.0339885\n",
      "4.641812\n",
      "4.28021\n",
      "3.9467978\n",
      "3.6393774\n",
      "3.3559256\n",
      "3.0945675\n",
      "2.8535864\n",
      "2.6313848\n",
      "2.4265118\n",
      "2.2376142\n",
      "2.0634353\n",
      "1.9028422\n",
      "1.7547604\n",
      "1.6182257\n",
      "1.4923369\n",
      "1.3762573\n",
      "1.2692311\n",
      "1.170546\n",
      "1.079556\n",
      "0.99565846\n",
      "0.91830087\n",
      "0.8469744\n",
      "0.7812116\n",
      "0.72057164\n",
      "0.6646587\n",
      "0.6131068\n",
      "0.5655711\n",
      "0.5217408\n",
      "0.48132956\n",
      "0.44406864\n",
      "0.40971258\n",
      "0.37803495\n",
      "0.34882692\n",
      "0.32189488\n",
      "0.29706162\n",
      "0.2741676\n",
      "0.25305483\n",
      "0.23358959\n",
      "0.21564204\n",
      "0.19909301\n",
      "0.18383358\n",
      "0.16976635\n",
      "0.15679272\n",
      "0.14483267\n",
      "0.13380402\n",
      "0.123635165\n",
      "0.114258096\n",
      "0.105612494\n",
      "0.09764178\n",
      "0.09029259\n",
      "0.08351425\n",
      "0.07726598\n",
      "0.07150576\n",
      "0.066193305\n",
      "0.06129505\n",
      "0.056778852\n",
      "0.052614216\n",
      "0.048774388\n"
     ]
    }
   ],
   "source": [
    "# Training model(L2-norm)\n",
    "times = 100\n",
    "for e in range(times):\n",
    "    _,curr_loss1 = sess.run([optimizer_L2,L2_loss], \n",
    "                            feed_dict={inputs:training_data['inputs'],targets:training_data['targets']})\n",
    "    print(curr_loss1)"
   ]
  },
  {
   "cell_type": "code",
   "execution_count": 5,
   "metadata": {},
   "outputs": [],
   "source": [
    "# Training model(Huber-norm)\n",
    "# times = 100\n",
    "# for e in range(times):\n",
    "#     _,curr_loss2 = sess.run([optimizer_huber,Huber_loss], feed_dict = {inputs:training_data['inputs'],targets:training_data['targets']})\n",
    "#     print(curr_loss2)"
   ]
  },
  {
   "cell_type": "code",
   "execution_count": 7,
   "metadata": {},
   "outputs": [
    {
     "data": {
      "text/plain": [
       "Text(0, 0.5, 'targets')"
      ]
     },
     "execution_count": 7,
     "metadata": {},
     "output_type": "execute_result"
    },
    {
     "data": {
      "image/png": "[encoded data removed]",
      "text/plain": [
       "<Figure size 432x288 with 1 Axes>"
      ]
     },
     "metadata": {
      "needs_background": "light"
     },
     "output_type": "display_data"
    }
   ],
   "source": [
    "#Visualization data\n",
    "out = sess.run([outputs], feed_dict = {inputs:training_data['inputs']})\n",
    "x = np.squeeze(out)\n",
    "y = np.squeeze(training_data['targets'])\n",
    "plt.plot(x,y)\n",
    "plt.xlabel('outputs')\n",
    "plt.ylabel('targets')"
   ]
  },
  {
   "cell_type": "code",
   "execution_count": null,
   "metadata": {},
   "outputs": [],
   "source": []
  }
 ],
 "metadata": {
  "kernelspec": {
   "display_name": "Python 3",
   "language": "python",
   "name": "python3"
  },
  "language_info": {
   "codemirror_mode": {
    "name": "ipython",
    "version": 3
   },
   "file_extension": ".py",
   "mimetype": "text/x-python",
   "name": "python",
   "nbconvert_exporter": "python",
   "pygments_lexer": "ipython3",
   "version": "3.6.8"
  }
 },
 "nbformat": 4,
 "nbformat_minor": 2
}
