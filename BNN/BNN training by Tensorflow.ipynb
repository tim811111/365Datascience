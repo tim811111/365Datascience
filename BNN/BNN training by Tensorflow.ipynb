{
 "cells": [
  {
   "cell_type": "markdown",
   "metadata": {},
   "source": [
    "## Tensorflow training\n",
    "* set up BNN by Tensorflow\n",
    "* Create a function f(x,z) = 13*xs + 7*zs - 12\n",
    "* Using L2-Norm objective function or huber_loss and gradient decent to minimize weight and bias for correct w and b"
   ]
  },
  {
   "cell_type": "code",
   "execution_count": 1,
   "metadata": {},
   "outputs": [],
   "source": [
    "#import library\n",
    "import numpy as np\n",
    "import matplotlib.pyplot as plt\n",
    "import tensorflow as tf\n",
    "%matplotlib inline"
   ]
  },
  {
   "cell_type": "code",
   "execution_count": null,
   "metadata": {},
   "outputs": [],
   "source": [
    "#creating data\n",
    "observation = 1000\n",
    "xs = np.random.uniform(-10,10,(observation,1))\n",
    "zs = np.random.uniform(-10,10,(observation,1))\n",
    "noise = np.random.uniform(-0.1,0.1,(observation,1))\n",
    "generated_input = np.column_stack((xs,zs))\n",
    "#set target\n",
    "generated_target = targets = 13*xs + 7*zs -12 + noise\n",
    "#creating npz file\n",
    "np.savez('TF_BNN', inputs = generated_input, targets = generated_target)\n",
    "\n",
    "#set the size of input and output \n",
    "input_size = 2\n",
    "output_size = 1\n",
    "\n",
    "# set placeholder\n",
    "inputs = tf.placeholder(tf.float32,[None,input_size])\n",
    "targets = tf.placeholder(tf.float32,[None,output_size])\n",
    "\n",
    "#set variable\n",
    "w = tf.Variable(tf.random_uniform([input_size,output_size],minval=-0.1,maxval=0.1))\n",
    "b = tf.Variable(tf.random_uniform([output_size],minval=-0.1,maxval=0.1))\n",
    "\n",
    "#set output\n",
    "outputs = tf.matmul(inputs,w) + b\n",
    "\n",
    "# setup loss function (L2-Norm objective function and huber_loss)\n",
    "L2_loss = tf.losses.mean_squared_error(labels=targets, predictions=outputs)\n",
    "Huber_loss = tf.losses.huber_loss(labels=targets, predictions=outputs)\n",
    "\n",
    "#setup optimization method (Gradient descent)\n",
    "optimizer_L2 = tf.train.GradientDescentOptimizer(learning_rate = 0.02).minimize(L2_loss)\n",
    "optimizer_huber = tf.train.GradientDescentOptimizer(learning_rate = 0.02).minimize(Huber_loss)\n",
    "\n",
    "#session\n",
    "sess = tf.InteractiveSession()\n",
    "\n",
    "#Initialize variable\n",
    "\n",
    "initializer = tf.global_variables_initializer()\n",
    "sess.run(initializer)"
   ]
  },
  {
   "cell_type": "code",
   "execution_count": null,
   "metadata": {},
   "outputs": [],
   "source": [
    "# loading train data\n",
    "training_data = np.load('TF_BNN.npz',)"
   ]
  },
  {
   "cell_type": "code",
   "execution_count": null,
   "metadata": {},
   "outputs": [],
   "source": [
    "# Training model(L2-norm)\n",
    "times = 10\n",
    "for e in range(times):\n",
    "    _,curr_loss1 = sess.run([optimizer,L2_loss], feed_dict = {inputs:training_data['inputs'],outputs:training_data['targets']})"
   ]
  },
  {
   "cell_type": "code",
   "execution_count": null,
   "metadata": {},
   "outputs": [],
   "source": [
    "# Training model(Huber-norm)\n",
    "times = 10\n",
    "for e in range(times):\n",
    "    _,curr_loss2 = sess.run([optimizer,Huber_loss], feed_dict = {inputs:training_data['inputs'],outputs:training_data['targets']})"
   ]
  },
  {
   "cell_type": "code",
   "execution_count": null,
   "metadata": {},
   "outputs": [],
   "source": [
    "#Visualization data\n",
    "out = sess.run([outputs], feed_dict = {targets:training_data['targets']})\n",
    "x = np.squeeze(out)\n",
    "y = np.squeeze(training_data['targets'])\n",
    "plt.plot(x,y)\n",
    "plt.xlabel('outputs')\n",
    "plt.ylabel('targets')"
   ]
  }
 ],
 "metadata": {
  "kernelspec": {
   "display_name": "Python 3",
   "language": "python",
   "name": "python3"
  },
  "language_info": {
   "codemirror_mode": {
    "name": "ipython",
    "version": 3
   },
   "file_extension": ".py",
   "mimetype": "text/x-python",
   "name": "python",
   "nbconvert_exporter": "python",
   "pygments_lexer": "ipython3",
   "version": "3.6.8"
  }
 },
 "nbformat": 4,
 "nbformat_minor": 2
}
