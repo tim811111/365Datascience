{
 "cells": [
  {
   "cell_type": "markdown",
   "metadata": {},
   "source": [
    "### Tensorflow Note"
   ]
  },
  {
   "cell_type": "markdown",
   "metadata": {},
   "source": [
    "# Tensorflow 筆記要點:\n",
    "\n",
    "#### 1.import tensorflow as tf\n",
    "\n",
    "#### 2.tensorflow讀取資料並非CSV或是TEXT，讀取資料型態為.npz(多維矩正檔by numpy)\n",
    "\n",
    "#### 3.當資料要引入tf之中時，必須先以 np.savez('檔案名稱', npz儲存variable名 = variable, input = 某的已經儲存數據的variable)\n",
    "\n",
    "#### 4.tensorflow數據類型有: placeholder(不可interation), variable\n",
    "\n",
    "#### 5.流程:\n",
    "\n",
    "* 引入 數據變數 丟進 np.savez()中建立npz檔 | np.savez('檔案名稱', inputs = generated_input, targets = generated_targets)\n",
    "\n",
    "## ↓                 開始設定參數形式\n",
    "                  \n",
    "* 設定 inputs 與 targets大小 | input_size = 2 #兩個變數\n",
    "\n",
    "## ↓                 建立palceholder\n",
    "\n",
    "* 利用 tf.placeholder() 餵進進出資料型別 | inputs = tf.placeholder(tf.float32,[None,input_size]) #inputs 為 float型別，資料內容 未知index數目  2個columns, None 可以之後塞入資料量。\n",
    "\n",
    "## ↓                 建立variable\n",
    "\n",
    "* 利用 tf.Variable() 丟進 參數型別 | weights = tf.Variable(tf.random_uniform([input_size,output_size], minval = -0.1,maxval = 0.1))  #weights 為 tf 的 variable 並資料內容為numpy的random_uniform ,矩正大小為input_size和output_size, minval與maxval為random_uniform的上下限。\n",
    "\n",
    "## ↓                 建立output\n",
    "\n",
    "* 利用 tf.matmul()與 numpy中的 np.dot()作用依樣，可用來定義output | outputs = tf.matmul(inputs,weights) + bias\n",
    "\n",
    "## ↓                 開始建立 cost\\loss function 與 optimization method\n",
    "\n",
    "* tf.losses中包含很多不同loss function 例如: tf.losses.mean_squared_error()  | L2_loss = tf.losses.mean_squared_error(labels = targets, predictions = outputs) /2 # MSE/2為常見於regression的 loss function(objective function), labels 為最終達到的 目標值, predictions 為model調整中的 輸出值。\n",
    "\n",
    "## ↓\n",
    "\n",
    "* tf.train中有很多不同 optimization method 例如: tf.train.GradientDescentOptimizer() 維度下降法 | optimize = tf.train.GradientDescentOptimizer(learing_rate = 0.05).minimize(L2_loss)  # GD中 learing_rate為可調之收斂常數， .minimize()是給予 optimize在收斂過程中最終收斂結果\n",
    "\n",
    "## ↓                 session輸出\n",
    "\n",
    "* tf.InteractiveSession()為互動式tensorflow Session，與 tf.Session()不同的是 1. 不需要指明用哪个session運行，可以直接運行變量  2.在運行時 互動式只要 print( a.run())即可呼叫，而Session為 sess = tf.Session()    print(sess.run(a))  | sess = tf.InteractiveSession()\n",
    "\n",
    "## ↓ \n",
    "##                  以上框架建立完成\n",
    "\n",
    "## ↓                 初始化variable \n",
    "\n",
    "* 利用 tf.global_variables_initializer()建立初始化  | initializer = tf.global_variables_initializer()      sess.run(initializer) # 以上會開始建立剛剛所設定的variable中 random.uniform 的部分\n",
    "\n",
    "## ↓                 loading traing data\n",
    "\n",
    "* 利用 np.load() 來讀取剛剛所利用 np.savez()所儲存的npz檔 | training_data = np.load('檔案名稱')  #讀取後呼叫方式與df相同\n",
    "\n",
    "\n",
    "## ↓                 training model (以下以剛剛所舉例之L2_loss與 optimize)\n",
    "\n",
    "* for e in range(times):\n",
    "    \n",
    "    _, curr_loss = sess.run([optimize, L2_loss] , feed_dict = { inputs: training_data['imputes'], tragets: training_data['targets']})\n",
    "    \n",
    "#### sess.run() 指定開始跑的內容， 第一個參數為[optimizion method, loss function]， 再以 feed_dict ={}方式餵進資料，key為 plaseholder, value為剛剛loading的資料。  _, curr_loss 前者為 optimizion method的輸出 後者為loss function，由於 optimizion method只是負責確認縮小誤差所以輸出為None，不須指定變數。\n",
    "\n",
    "## ↓                  圖像化\n",
    "\n",
    "* 利用 sess.run() 記憶剛剛的model 利用 inputs 跑出outputs才有數據可畫圖。  | out = sess.run([outputs], feed_dict = { inputs:training_data['inputs]})\n",
    "\n",
    "* plt.polt(np.squeeze(out), np.squeeze(training_data['targets'])\n",
    "  np.squeeze() 可以將資料維度為1的刪除，像是原本為度為 (1,10) array是無法畫圖，因為資料為 array([[]]),利用np.squeeze()可變為(,10)，與reshape()做法相同。"
   ]
  },
  {
   "cell_type": "code",
   "execution_count": null,
   "metadata": {},
   "outputs": [],
   "source": []
  }
 ],
 "metadata": {
  "kernelspec": {
   "display_name": "Python 3",
   "language": "python",
   "name": "python3"
  },
  "language_info": {
   "codemirror_mode": {
    "name": "ipython",
    "version": 3
   },
   "file_extension": ".py",
   "mimetype": "text/x-python",
   "name": "python",
   "nbconvert_exporter": "python",
   "pygments_lexer": "ipython3",
   "version": "3.6.8"
  }
 },
 "nbformat": 4,
 "nbformat_minor": 2
}
